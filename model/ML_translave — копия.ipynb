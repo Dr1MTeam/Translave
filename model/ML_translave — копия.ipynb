{
 "cells": [
  {
   "cell_type": "code",
   "execution_count": 1,
   "metadata": {
    "ExecuteTime": {
     "end_time": "2023-12-16T18:55:10.303126Z",
     "start_time": "2023-12-16T18:55:07.605183400Z"
    }
   },
   "outputs": [],
   "source": [
    "from transformers import AdamW, AutoModelForSeq2SeqLM,AutoTokenizer\n",
    "import os\n",
    "import pandas as pd"
   ]
  },
  {
   "cell_type": "code",
   "execution_count": 2,
   "outputs": [],
   "source": [
    "\n",
    "import torch\n",
    "import os\n",
    "import pandas as pd\n",
    "import numpy as np\n",
    "from transformers import get_linear_schedule_with_warmup\n",
    "from tqdm import tqdm_notebook\n",
    "import sacrebleu"
   ],
   "metadata": {
    "collapsed": false,
    "ExecuteTime": {
     "end_time": "2023-12-16T18:55:10.396012200Z",
     "start_time": "2023-12-16T18:55:10.304803700Z"
    }
   }
  },
  {
   "cell_type": "code",
   "execution_count": 2,
   "outputs": [],
   "source": [],
   "metadata": {
    "collapsed": false,
    "ExecuteTime": {
     "end_time": "2023-12-16T18:55:11.413125200Z",
     "start_time": "2023-12-16T18:55:11.404635700Z"
    }
   }
  },
  {
   "cell_type": "code",
   "execution_count": 3,
   "metadata": {
    "ExecuteTime": {
     "end_time": "2023-12-16T18:55:14.745517500Z",
     "start_time": "2023-12-16T18:55:14.730074300Z"
    }
   },
   "outputs": [],
   "source": [
    "model_directory = \"/model/transformers_files/\"\n",
    "cache_dir_models = model_directory + \"default_models/\"\n",
    "cache_dir_tokenizers = model_directory + \"tokenizers/\"\n",
    "model_name = \"google/mt5-small\""
   ]
  },
  {
   "cell_type": "code",
   "execution_count": 4,
   "metadata": {
    "ExecuteTime": {
     "end_time": "2023-12-16T18:55:19.420508300Z",
     "start_time": "2023-12-16T18:55:16.059041500Z"
    }
   },
   "outputs": [
    {
     "name": "stderr",
     "output_type": "stream",
     "text": [
      "C:\\Users\\Admin\\.virtualenvs\\Translave\\lib\\site-packages\\transformers\\convert_slow_tokenizer.py:473: UserWarning: The sentencepiece tokenizer that you are converting to a fast tokenizer uses the byte fallback option which is not implemented in the fast tokenizers. In practice this means that the fast version of the tokenizer can produce unknown tokens whereas the sentencepiece version would have converted these unknown tokens into a sequence of byte tokens matching the original piece of text.\n",
      "  warnings.warn(\n"
     ]
    }
   ],
   "source": [
    "# Скачивание модели и токенизатора\n",
    "model = AutoModelForSeq2SeqLM.from_pretrained(model_name, cache_dir=cache_dir_models)\n",
    "tokenizer = AutoTokenizer.from_pretrained(model_name, cache_dir=cache_dir_tokenizers, legacy=False)"
   ]
  },
  {
   "cell_type": "code",
   "execution_count": 5,
   "metadata": {
    "ExecuteTime": {
     "end_time": "2023-12-16T18:55:22.489675900Z",
     "start_time": "2023-12-16T18:55:22.474864200Z"
    }
   },
   "outputs": [],
   "source": [
    "folder = '/model'\n",
    "model_folder='/model/modelmT5'\n",
    "tokenizer_folder = '/model/tokenizermT5'"
   ]
  },
  {
   "cell_type": "code",
   "execution_count": 6,
   "outputs": [
    {
     "data": {
      "text/plain": "'C:\\\\Users\\\\Admin\\\\PycharmProjects\\\\Translave\\\\model'"
     },
     "execution_count": 6,
     "metadata": {},
     "output_type": "execute_result"
    }
   ],
   "source": [
    "os.getcwd()"
   ],
   "metadata": {
    "collapsed": false,
    "ExecuteTime": {
     "end_time": "2023-12-16T18:55:23.534430100Z",
     "start_time": "2023-12-16T18:55:23.523415Z"
    }
   }
  },
  {
   "cell_type": "code",
   "execution_count": 7,
   "metadata": {
    "ExecuteTime": {
     "end_time": "2023-12-16T18:55:25.477766900Z",
     "start_time": "2023-12-16T18:55:24.751802100Z"
    }
   },
   "outputs": [],
   "source": [
    "# Сохраняем токенизатор\n",
    "tokenizer.save_pretrained(tokenizer_folder)\n",
    "# Сохраняем модель\n",
    "model.save_pretrained(model_folder)"
   ]
  },
  {
   "cell_type": "code",
   "execution_count": 8,
   "metadata": {
    "ExecuteTime": {
     "end_time": "2023-12-16T18:55:27.533737400Z",
     "start_time": "2023-12-16T18:55:27.529736800Z"
    }
   },
   "outputs": [],
   "source": [
    "# Создаем папки, если их еще нет\n",
    "tokenizer_folder = os.path.join('path', 'Tokenizer')\n",
    "model_folder = os.path.join('path', 'Model')"
   ]
  },
  {
   "cell_type": "code",
   "execution_count": 9,
   "metadata": {
    "ExecuteTime": {
     "end_time": "2023-12-16T18:55:28.388645900Z",
     "start_time": "2023-12-16T18:55:28.385137700Z"
    }
   },
   "outputs": [],
   "source": [
    "model.config.max_length=40"
   ]
  },
  {
   "cell_type": "code",
   "execution_count": 10,
   "metadata": {
    "ExecuteTime": {
     "end_time": "2023-12-16T18:55:29.209191600Z",
     "start_time": "2023-12-16T18:55:29.131554300Z"
    }
   },
   "outputs": [
    {
     "data": {
      "text/plain": "250100"
     },
     "execution_count": 10,
     "metadata": {},
     "output_type": "execute_result"
    }
   ],
   "source": [
    "len(tokenizer.vocab)"
   ]
  },
  {
   "cell_type": "code",
   "execution_count": 11,
   "metadata": {
    "ExecuteTime": {
     "end_time": "2023-12-16T18:55:31.442460600Z",
     "start_time": "2023-12-16T18:55:29.967823Z"
    }
   },
   "outputs": [],
   "source": [
    "train_df = pd.read_csv(\"C:\\\\Users\\\\Admin\\\\PycharmProjects\\\\Translave\\\\model\\\\train_data.csv\").astype(str)\n",
    "eval_df = pd.read_csv(\"C:\\\\Users\\\\Admin\\\\PycharmProjects\\\\Translave\\\\model\\\\validation_data.csv\").astype(str)"
   ]
  },
  {
   "cell_type": "code",
   "execution_count": 12,
   "metadata": {
    "ExecuteTime": {
     "end_time": "2023-12-16T18:55:32.426058100Z",
     "start_time": "2023-12-16T18:55:32.403021200Z"
    }
   },
   "outputs": [
    {
     "data": {
      "text/plain": "         prefix                                         input_text  \\\n105753  rus.eng  <rus.eng> Том хотел пригласить Мэри на свидани...   \n214660  rus.eng  <rus.eng> Японки часто выглядят маленькими и и...   \n312155  rus.eng          <rus.eng> Я помог Тому передвинуть стол.    \n491987  eng.rus  <eng.rus> I don't think that I'd change anythi...   \n17202   rus.eng  <rus.eng> Ты не мог бы оставить нас одних, пож...   \n\n                                              target_text  \n105753  Tom wanted to ask Mary to go out with him, but...  \n214660    Japanese women tend to look tiny and delicate.   \n312155                       I helped Tom move his desk.   \n491987                Не думаю, что я бы что-то изменил.   \n17202                  Would you leave us alone, please?   ",
      "text/html": "<div>\n<style scoped>\n    .dataframe tbody tr th:only-of-type {\n        vertical-align: middle;\n    }\n\n    .dataframe tbody tr th {\n        vertical-align: top;\n    }\n\n    .dataframe thead th {\n        text-align: right;\n    }\n</style>\n<table border=\"1\" class=\"dataframe\">\n  <thead>\n    <tr style=\"text-align: right;\">\n      <th></th>\n      <th>prefix</th>\n      <th>input_text</th>\n      <th>target_text</th>\n    </tr>\n  </thead>\n  <tbody>\n    <tr>\n      <th>105753</th>\n      <td>rus.eng</td>\n      <td>&lt;rus.eng&gt; Том хотел пригласить Мэри на свидани...</td>\n      <td>Tom wanted to ask Mary to go out with him, but...</td>\n    </tr>\n    <tr>\n      <th>214660</th>\n      <td>rus.eng</td>\n      <td>&lt;rus.eng&gt; Японки часто выглядят маленькими и и...</td>\n      <td>Japanese women tend to look tiny and delicate.</td>\n    </tr>\n    <tr>\n      <th>312155</th>\n      <td>rus.eng</td>\n      <td>&lt;rus.eng&gt; Я помог Тому передвинуть стол.</td>\n      <td>I helped Tom move his desk.</td>\n    </tr>\n    <tr>\n      <th>491987</th>\n      <td>eng.rus</td>\n      <td>&lt;eng.rus&gt; I don't think that I'd change anythi...</td>\n      <td>Не думаю, что я бы что-то изменил.</td>\n    </tr>\n    <tr>\n      <th>17202</th>\n      <td>rus.eng</td>\n      <td>&lt;rus.eng&gt; Ты не мог бы оставить нас одних, пож...</td>\n      <td>Would you leave us alone, please?</td>\n    </tr>\n  </tbody>\n</table>\n</div>"
     },
     "execution_count": 12,
     "metadata": {},
     "output_type": "execute_result"
    }
   ],
   "source": [
    "train_df.sample(5)\n"
   ]
  },
  {
   "cell_type": "code",
   "execution_count": 13,
   "metadata": {
    "ExecuteTime": {
     "end_time": "2023-12-16T18:55:37.218076900Z",
     "start_time": "2023-12-16T18:55:37.202252500Z"
    }
   },
   "outputs": [
    {
     "data": {
      "text/plain": "array(['rus.eng', 'eng.rus'], dtype=object)"
     },
     "execution_count": 13,
     "metadata": {},
     "output_type": "execute_result"
    }
   ],
   "source": [
    "train_df['prefix'].unique()"
   ]
  },
  {
   "cell_type": "code",
   "execution_count": 14,
   "metadata": {
    "ExecuteTime": {
     "end_time": "2023-12-16T18:55:38.518855500Z",
     "start_time": "2023-12-16T18:55:38.501312800Z"
    }
   },
   "outputs": [],
   "source": [
    "LANG_TOKEN_MAPPING = {\n",
    "    '<rus.eng>': '',\n",
    "    '<eng.rus>': ''\n",
    "}"
   ]
  },
  {
   "cell_type": "code",
   "execution_count": 15,
   "metadata": {
    "ExecuteTime": {
     "end_time": "2023-12-16T18:55:41.389717400Z",
     "start_time": "2023-12-16T18:55:41.374540600Z"
    }
   },
   "outputs": [
    {
     "data": {
      "text/plain": "{'additional_special_tokens': ['<rus.eng>', '<eng.rus>']}"
     },
     "execution_count": 15,
     "metadata": {},
     "output_type": "execute_result"
    }
   ],
   "source": [
    "special_tokens_dict = {'additional_special_tokens': list(LANG_TOKEN_MAPPING)}\n",
    "special_tokens_dict"
   ]
  },
  {
   "cell_type": "code",
   "execution_count": 16,
   "metadata": {
    "ExecuteTime": {
     "end_time": "2023-12-16T18:55:42.267586700Z",
     "start_time": "2023-12-16T18:55:42.260429Z"
    }
   },
   "outputs": [
    {
     "data": {
      "text/plain": "2"
     },
     "execution_count": 16,
     "metadata": {},
     "output_type": "execute_result"
    }
   ],
   "source": [
    "tokenizer.add_special_tokens(special_tokens_dict)"
   ]
  },
  {
   "cell_type": "code",
   "execution_count": 17,
   "metadata": {
    "ExecuteTime": {
     "end_time": "2023-12-16T18:55:43.148977400Z",
     "start_time": "2023-12-16T18:55:43.132895200Z"
    }
   },
   "outputs": [
    {
     "data": {
      "text/plain": "['</s>', '<unk>', '<pad>', '<eng.rus>', '<rus.eng>']"
     },
     "execution_count": 17,
     "metadata": {},
     "output_type": "execute_result"
    }
   ],
   "source": [
    "tokenizer.all_special_tokens"
   ]
  },
  {
   "cell_type": "code",
   "execution_count": 18,
   "metadata": {
    "ExecuteTime": {
     "end_time": "2023-12-16T18:55:44.071322300Z",
     "start_time": "2023-12-16T18:55:44.066305600Z"
    }
   },
   "outputs": [
    {
     "data": {
      "text/plain": "250112"
     },
     "execution_count": 18,
     "metadata": {},
     "output_type": "execute_result"
    }
   ],
   "source": [
    "model.config.vocab_size"
   ]
  },
  {
   "cell_type": "code",
   "execution_count": 19,
   "metadata": {
    "ExecuteTime": {
     "end_time": "2023-12-16T18:55:45.705381100Z",
     "start_time": "2023-12-16T18:55:44.857595600Z"
    }
   },
   "outputs": [
    {
     "data": {
      "text/plain": "Embedding(250102, 512)"
     },
     "execution_count": 19,
     "metadata": {},
     "output_type": "execute_result"
    }
   ],
   "source": [
    "model.resize_token_embeddings(len(tokenizer))"
   ]
  },
  {
   "cell_type": "code",
   "execution_count": 20,
   "metadata": {
    "ExecuteTime": {
     "end_time": "2023-12-16T18:55:46.653656900Z",
     "start_time": "2023-12-16T18:55:46.639817700Z"
    }
   },
   "outputs": [],
   "source": [
    "def encode_str(text, tokenizer, seq_len):\n",
    "    # Tokenize,pad to max length and encode to ids\n",
    "    # Returns tensor with tocken ids\"\"\"\n",
    "    input_ids = tokenizer.encode(\n",
    "      text=text,\n",
    "      return_tensors = 'pt',\n",
    "      padding = 'max_length',\n",
    "      truncation = True,\n",
    "      max_length = seq_len)\n",
    "\n",
    "    return input_ids[0]\n"
   ]
  },
  {
   "cell_type": "code",
   "execution_count": 21,
   "metadata": {
    "ExecuteTime": {
     "end_time": "2023-12-16T18:55:52.392027900Z",
     "start_time": "2023-12-16T18:55:52.385248100Z"
    }
   },
   "outputs": [],
   "source": [
    "max_seq_len = 40"
   ]
  },
  {
   "cell_type": "code",
   "execution_count": 22,
   "metadata": {
    "ExecuteTime": {
     "end_time": "2023-12-16T18:55:53.154776600Z",
     "start_time": "2023-12-16T18:55:53.149778600Z"
    }
   },
   "outputs": [
    {
     "name": "stdout",
     "output_type": "stream",
     "text": [
      "tensor([1494,  339,  259,  262, 2978,    1,    0,    0,    0,    0,    0,    0,\n",
      "           0,    0,    0,    0,    0,    0,    0,    0,    0,    0,    0,    0,\n",
      "           0,    0,    0,    0,    0,    0,    0,    0,    0,    0,    0,    0,\n",
      "           0,    0,    0,    0])\n",
      "['▁This', '▁is', '▁', 'a', '▁test', '</s>', '<pad>', '<pad>', '<pad>', '<pad>', '<pad>', '<pad>', '<pad>', '<pad>', '<pad>', '<pad>', '<pad>', '<pad>', '<pad>', '<pad>', '<pad>', '<pad>', '<pad>', '<pad>', '<pad>', '<pad>', '<pad>', '<pad>', '<pad>', '<pad>', '<pad>', '<pad>', '<pad>', '<pad>', '<pad>', '<pad>', '<pad>', '<pad>', '<pad>', '<pad>']\n"
     ]
    }
   ],
   "source": [
    "t1=encode_str(' This is a test',tokenizer, max_seq_len)\n",
    "print(t1)\n",
    "tokens = tokenizer.convert_ids_to_tokens(t1)\n",
    "print(tokens)"
   ]
  },
  {
   "cell_type": "code",
   "execution_count": 23,
   "metadata": {
    "ExecuteTime": {
     "end_time": "2023-12-16T18:55:56.621513800Z",
     "start_time": "2023-12-16T18:55:56.613995Z"
    }
   },
   "outputs": [
    {
     "name": "stdout",
     "output_type": "stream",
     "text": [
      "tensor([ 17019,    259,    735, 132896,   7547,      1,      0,      0,      0,\n",
      "             0,      0,      0,      0,      0,      0,      0,      0,      0,\n",
      "             0,      0,      0,      0,      0,      0,      0,      0,      0,\n",
      "             0,      0,      0,      0,      0,      0,      0,      0,      0,\n",
      "             0,      0,      0,      0])\n",
      "['▁тест', '▁', 'для', '▁конверт', 'ации', '</s>', '<pad>', '<pad>', '<pad>', '<pad>', '<pad>', '<pad>', '<pad>', '<pad>', '<pad>', '<pad>', '<pad>', '<pad>', '<pad>', '<pad>', '<pad>', '<pad>', '<pad>', '<pad>', '<pad>', '<pad>', '<pad>', '<pad>', '<pad>', '<pad>', '<pad>', '<pad>', '<pad>', '<pad>', '<pad>', '<pad>', '<pad>', '<pad>', '<pad>', '<pad>']\n"
     ]
    }
   ],
   "source": [
    "t2=encode_str(' тест для конвертации',tokenizer,max_seq_len)\n",
    "print(t2)\n",
    "tokens=tokenizer.convert_ids_to_tokens(t2)\n",
    "print(tokens)"
   ]
  }
 ],
 "metadata": {
  "kernelspec": {
   "display_name": "base",
   "language": "python",
   "name": "python3"
  },
  "language_info": {
   "codemirror_mode": {
    "name": "ipython",
    "version": 3
   },
   "file_extension": ".py",
   "mimetype": "text/x-python",
   "name": "python",
   "nbconvert_exporter": "python",
   "pygments_lexer": "ipython3",
   "version": "3.9.18"
  }
 },
 "nbformat": 4,
 "nbformat_minor": 2
}
